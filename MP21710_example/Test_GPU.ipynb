{
 "cells": [
  {
   "cell_type": "code",
   "execution_count": 1,
   "metadata": {
    "collapsed": true
   },
   "outputs": [],
   "source": [
    "import tensorflow as tf\n",
    "import time"
   ]
  },
  {
   "cell_type": "code",
   "execution_count": 2,
   "metadata": {},
   "outputs": [
    {
     "name": "stdout",
     "output_type": "stream",
     "text": [
      "result= -5937.74\n"
     ]
    }
   ],
   "source": [
    "size=500\n",
    "W = tf.random_normal([size, size],name='W')\n",
    "X = tf.random_normal([size, size],name='X')\n",
    "mul = tf.matmul(W, X,name='mul')\n",
    "sum_result = tf.reduce_sum(mul,name='sum')\n",
    "\n",
    "with tf.Session() as sess:\n",
    "    result = sess.run(sum_result)\n",
    "print('result=',result)    "
   ]
  },
  {
   "cell_type": "code",
   "execution_count": 3,
   "metadata": {
    "collapsed": true
   },
   "outputs": [],
   "source": [
    "size=500\n",
    "W = tf.random_normal([size, size],name='W')\n",
    "X = tf.random_normal([size, size],name='X')\n",
    "mul = tf.matmul(W, X,name='mul')\n",
    "sum_result = tf.reduce_sum(mul,name='sum')\n",
    "\n",
    "tfconfig=tf.ConfigProto(log_device_placement=True)\n",
    "with tf.Session(config=tfconfig) as sess:\n",
    "        result = sess.run(sum_result)"
   ]
  },
  {
   "cell_type": "code",
   "execution_count": 4,
   "metadata": {
    "collapsed": true
   },
   "outputs": [],
   "source": [
    "size=500\n",
    "with tf.device(\"/cpu:0\"):\n",
    "    W = tf.random_normal([size, size],name='W')\n",
    "    X = tf.random_normal([size, size],name='X')\n",
    "    mul = tf.matmul(W, X,name='mul')\n",
    "    sum_result = tf.reduce_sum(mul,name='sum')\n",
    "\n",
    "tfconfig=tf.ConfigProto(log_device_placement=True)\n",
    "with tf.Session(config=tfconfig) as sess:\n",
    "        result = sess.run(sum_result)"
   ]
  },
  {
   "cell_type": "code",
   "execution_count": 5,
   "metadata": {
    "collapsed": true
   },
   "outputs": [],
   "source": [
    "size=500\n",
    "with tf.device(\"/gpu:0\"):\n",
    "    W = tf.random_normal([size, size],name='W')\n",
    "    X = tf.random_normal([size, size],name='X')\n",
    "    mul = tf.matmul(W, X,name='mul')\n",
    "    sum_result = tf.reduce_sum(mul,name='sum')\n",
    "\n",
    "tfconfig=tf.ConfigProto(log_device_placement=True)\n",
    "with tf.Session(config=tfconfig) as sess:\n",
    "        result = sess.run(sum_result)"
   ]
  },
  {
   "cell_type": "code",
   "execution_count": 6,
   "metadata": {
    "collapsed": true
   },
   "outputs": [],
   "source": [
    "def performanceTest(device_name,size):\n",
    "    with tf.device(device_name):\n",
    "        W = tf.random_normal([size, size],name='W')\n",
    "        X = tf.random_normal([size, size],name='X')\n",
    "        mul = tf.matmul(W, X,name='mul')\n",
    "        sum_result = tf.reduce_sum(mul,name='sum')\n",
    "\n",
    "    startTime = time.time() \n",
    "    tfconfig=tf.ConfigProto(log_device_placement=True)\n",
    "    with tf.Session(config=tfconfig) as sess:\n",
    "        result = sess.run(sum_result)\n",
    "    takeTimes=time.time()  - startTime   \n",
    "    print(device_name,\" size=\",size,\"Time:\",takeTimes )\n",
    "    return takeTimes"
   ]
  },
  {
   "cell_type": "code",
   "execution_count": 7,
   "metadata": {},
   "outputs": [
    {
     "name": "stdout",
     "output_type": "stream",
     "text": [
      "/gpu:0  size= 100 Time: 0.02005314826965332\n",
      "/cpu:0  size= 100 Time: 0.009526968002319336\n"
     ]
    }
   ],
   "source": [
    "g=performanceTest(\"/gpu:0\",100)\n",
    "c=performanceTest(\"/cpu:0\",100)"
   ]
  },
  {
   "cell_type": "code",
   "execution_count": 8,
   "metadata": {},
   "outputs": [
    {
     "name": "stdout",
     "output_type": "stream",
     "text": [
      "/gpu:0  size= 200 Time: 0.025040626525878906\n",
      "/cpu:0  size= 200 Time: 0.0250394344329834\n"
     ]
    }
   ],
   "source": [
    "g=performanceTest(\"/gpu:0\",200)\n",
    "c=performanceTest(\"/cpu:0\",200)"
   ]
  },
  {
   "cell_type": "code",
   "execution_count": 9,
   "metadata": {},
   "outputs": [
    {
     "name": "stdout",
     "output_type": "stream",
     "text": [
      "/gpu:0  size= 1000 Time: 0.03308725357055664\n",
      "/cpu:0  size= 1000 Time: 0.07962512969970703\n"
     ]
    }
   ],
   "source": [
    "g=performanceTest(\"/gpu:0\",1000)\n",
    "c=performanceTest(\"/cpu:0\",1000)"
   ]
  },
  {
   "cell_type": "code",
   "execution_count": null,
   "metadata": {},
   "outputs": [
    {
     "name": "stdout",
     "output_type": "stream",
     "text": [
      "/gpu:0  size= 5000 Time: 0.18821358680725098\n",
      "/cpu:0  size= 5000 Time: 5.133248805999756\n"
     ]
    }
   ],
   "source": [
    "g=performanceTest(\"/gpu:0\",5000)\n",
    "c=performanceTest(\"/cpu:0\",5000)"
   ]
  },
  {
   "cell_type": "code",
   "execution_count": null,
   "metadata": {},
   "outputs": [
    {
     "name": "stdout",
     "output_type": "stream",
     "text": [
      "/gpu:0  size= 0 Time: 0.03709888458251953\n",
      "/cpu:0  size= 0 Time: 0.03125452995300293\n",
      "--\n",
      "/gpu:0  size= 500 Time: 0.05009341239929199\n",
      "/cpu:0  size= 500 Time: 0.057971954345703125\n",
      "--\n",
      "/gpu:0  size= 1000 Time: 0.03528785705566406\n",
      "/cpu:0  size= 1000 Time: 0.10935115814208984\n",
      "--\n",
      "/gpu:0  size= 1500 Time: 0.0663309097290039\n",
      "/cpu:0  size= 1500 Time: 0.25063586235046387\n",
      "--\n",
      "/gpu:0  size= 2000 Time: 0.06546401977539062\n",
      "/cpu:0  size= 2000 Time: 0.4726090431213379\n",
      "--\n",
      "/gpu:0  size= 2500 Time: 0.06708598136901855\n",
      "/cpu:0  size= 2500 Time: 0.8277478218078613\n",
      "--\n",
      "/gpu:0  size= 3000 Time: 0.10938596725463867\n",
      "/cpu:0  size= 3000 Time: 1.285036563873291\n",
      "--\n",
      "/gpu:0  size= 3500 Time: 0.12733840942382812\n"
     ]
    }
   ],
   "source": [
    "gpu_set=[];cpu_set=[];i_set=[]\n",
    "for i in range(0,5001,500):\n",
    "    g=performanceTest(\"/gpu:0\",i)\n",
    "    c=performanceTest(\"/cpu:0\",i)\n",
    "    gpu_set.append(g);cpu_set.append(c);i_set.append(i)\n",
    "    print(\"--\")"
   ]
  },
  {
   "cell_type": "code",
   "execution_count": null,
   "metadata": {},
   "outputs": [],
   "source": [
    "%matplotlib inline\n",
    "import matplotlib.pyplot as plt\n",
    "fig = plt.gcf()\n",
    "fig.set_size_inches(6,4)\n",
    "plt.plot(i_set, gpu_set, label = 'gpu')\n",
    "plt.plot(i_set, cpu_set, label = 'cpu')\n",
    "plt.legend()"
   ]
  },
  {
   "cell_type": "code",
   "execution_count": null,
   "metadata": {
    "collapsed": true
   },
   "outputs": [],
   "source": [
    "#g=performanceTest(\"/gpu:0\",7000)"
   ]
  },
  {
   "cell_type": "code",
   "execution_count": null,
   "metadata": {
    "collapsed": true
   },
   "outputs": [],
   "source": []
  }
 ],
 "metadata": {
  "kernelspec": {
   "display_name": "Python 3",
   "language": "python",
   "name": "python3"
  },
  "language_info": {
   "codemirror_mode": {
    "name": "ipython",
    "version": 3
   },
   "file_extension": ".py",
   "mimetype": "text/x-python",
   "name": "python",
   "nbconvert_exporter": "python",
   "pygments_lexer": "ipython3",
   "version": "3.6.2"
  }
 },
 "nbformat": 4,
 "nbformat_minor": 2
}
